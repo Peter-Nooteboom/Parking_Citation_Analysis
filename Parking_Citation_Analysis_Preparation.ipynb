{
  "nbformat": 4,
  "nbformat_minor": 0,
  "metadata": {
    "colab": {
      "name": "Parking_Citation_Analysis_Preparation.ipynb",
      "provenance": [],
      "collapsed_sections": [],
      "machine_shape": "hm",
      "authorship_tag": "ABX9TyPIJihthDl4Jb8W18Esf1N0"
    },
    "kernelspec": {
      "name": "python3",
      "display_name": "Python 3"
    },
    "language_info": {
      "name": "python"
    }
  },
  "cells": [
    {
      "cell_type": "code",
      "execution_count": 1,
      "metadata": {
        "id": "_cAZK0QBBB6g",
        "colab": {
          "base_uri": "https://localhost:8080/"
        },
        "outputId": "124de30e-44e2-420b-c049-93401e4d9d7d"
      },
      "outputs": [
        {
          "output_type": "stream",
          "name": "stdout",
          "text": [
            "Mounted at /content/drive\n"
          ]
        }
      ],
      "source": [
        "#Dependencies\n",
        "from google.colab import drive\n",
        "import pandas as pd\n",
        "import numpy as np\n",
        "import matplotlib.pyplot as plt\n",
        "import matplotlib as mpl\n",
        "import seaborn as sns\n",
        "from datetime import datetime\n",
        "import math\n",
        "\n",
        "#Drive Mount\n",
        "drive.mount('/content/drive')\n",
        "directory = '/content/drive/MyDrive/Data Projects/Parking Citations/Files'\n",
        "\n",
        "#Dataframe Settings\n",
        "pd.set_option(\"display.max_rows\", None, \"display.max_columns\", None)"
      ]
    },
    {
      "cell_type": "markdown",
      "source": [
        "#Data Preparation\n",
        "______________________\n"
      ],
      "metadata": {
        "id": "XPq0y_VyHIFC"
      }
    },
    {
      "cell_type": "code",
      "source": [
        "#Importing Data\n",
        "df = pd.read_csv(f'{directory}/Parking_Citations.csv', usecols= ['Fine amount', 'Issue Date', 'Issue time'])"
      ],
      "metadata": {
        "id": "OIHHm7adHMnW"
      },
      "execution_count": 2,
      "outputs": []
    },
    {
      "cell_type": "code",
      "source": [
        "#Drop Missing Values\n",
        "df = df.dropna()\n",
        "\n",
        "#Renaiming Columns\n",
        "df = df.rename(columns = {'Fine amount':'Fine_Amount', 'Issue time':'Time', 'Issue Date':'Date'})\n",
        "\n",
        "#Converting Date to datetime object\n",
        "df['Date'] = pd.to_datetime(df.Date) \n",
        "\n",
        "#Seperating Year\n",
        "df['Year'] = pd.DatetimeIndex(df['Date']).year \n",
        "\n",
        "#Month of the year\n",
        "df['Month'] = pd.DatetimeIndex(df['Date']).month_name() \n",
        "\n",
        "#Month of the year index\n",
        "df['Month_Index'] = pd.DatetimeIndex(df['Date']).month \n",
        "\n",
        "#Day of the month\n",
        "df['Day'] = pd.DatetimeIndex(df['Date']).day \n",
        "\n",
        "#Day of the week\n",
        "df['Weekday'] = df['Date'].dt.day_name() \n",
        "\n",
        "#Week of the year\n",
        "df['Week'] = df['Date'].dt.isocalendar().week \n",
        "\n",
        "#Calculating Hours\n",
        "def hour(x):\n",
        "  return int(math.floor(x / 100.0))\n",
        "df['Hour'] = df['Time'].apply(hour)\n",
        "\n",
        "#Calculating Minutes\n",
        "def minute(x):\n",
        "  return int(x - (math.floor(x / 100.0) *100))\n",
        "df['Minute'] = df['Time'].apply(minute)\n",
        "\n",
        "#Weekends\n",
        "df['Weekend'] = df['Weekday']\n",
        "df['Weekend'] = df['Weekend'].replace(['Monday', 'Tuesday', 'Wednesday', 'Thursday', 'Friday'], 0)\n",
        "df['Weekend'] = df['Weekend'].replace(['Saturday', 'Sunday'], 1)\n",
        "\n",
        "#Column Order\n",
        "\n",
        "df = df[['Date', 'Year', 'Day', 'Month', 'Month_Index', 'Weekday', 'Weekend', 'Week', 'Time', 'Hour', 'Minute', 'Fine_Amount']]"
      ],
      "metadata": {
        "id": "XK4RHaw8nbL9"
      },
      "execution_count": 3,
      "outputs": []
    },
    {
      "cell_type": "code",
      "source": [
        "df.to_csv(f'{directory}/Parking_Citations_Cleaned.csv')"
      ],
      "metadata": {
        "id": "_VejantUrdqD"
      },
      "execution_count": 4,
      "outputs": []
    }
  ]
}