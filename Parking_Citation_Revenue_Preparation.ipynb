{
  "nbformat": 4,
  "nbformat_minor": 0,
  "metadata": {
    "colab": {
      "name": "Parking_Citation_Revenue_Preparation.ipynb",
      "provenance": [],
      "collapsed_sections": [],
      "machine_shape": "hm",
      "authorship_tag": "ABX9TyPivsTu/VLYTaC0NNDT7mAn"
    },
    "kernelspec": {
      "name": "python3",
      "display_name": "Python 3"
    },
    "language_info": {
      "name": "python"
    }
  },
  "cells": [
    {
      "cell_type": "code",
      "execution_count": null,
      "metadata": {
        "id": "_cAZK0QBBB6g"
      },
      "outputs": [],
      "source": [
        "#Dependencies\n",
        "from google.colab import drive\n",
        "import pandas as pd\n",
        "import numpy as np\n",
        "from datetime import datetime\n",
        "from datetime import timedelta\n",
        "from datetime import date\n",
        "import math\n",
        "import holidays\n",
        "\n",
        "#Drive Mount\n",
        "drive.mount('/content/drive')\n",
        "directory = '/content/drive/MyDrive/Data Projects/Parking Citations/Files'\n",
        "\n",
        "#Dataframe Settings\n",
        "pd.set_option(\"display.max_rows\", None, \"display.max_columns\", None)"
      ]
    },
    {
      "cell_type": "markdown",
      "source": [
        "#Data Preparation\n",
        "______________________\n"
      ],
      "metadata": {
        "id": "XPq0y_VyHIFC"
      }
    },
    {
      "cell_type": "code",
      "source": [
        "#Importing Data\n",
        "df = pd.read_csv(f'{directory}/Parking_Citations_3-25.csv', usecols= ['Fine amount', 'Issue Date', 'Issue time'])"
      ],
      "metadata": {
        "id": "OIHHm7adHMnW"
      },
      "execution_count": 8,
      "outputs": []
    },
    {
      "cell_type": "code",
      "source": [
        "#Drop Missing Values\n",
        "df = df.dropna()\n",
        "\n",
        "#Renaiming Columns\n",
        "df = df.rename(columns = {'Fine amount':'Fine_Amount', 'Issue time':'Time', 'Issue Date':'Date'})\n",
        "\n",
        "#Converting Date to datetime object\n",
        "df['Date'] = pd.to_datetime(df.Date) \n",
        "\n",
        "#Seperating Year\n",
        "df['Year'] = pd.DatetimeIndex(df['Date']).year\n",
        "#Only including years (2015-Present)\n",
        "df = df.loc[df['Year'] >= 2015]\n",
        "df = df.loc[df['Date'] <= datetime.strptime('2022-03-24', '%Y-%m-%d')]\n",
        "\n",
        "#Month of the year\n",
        "df['Month'] = pd.DatetimeIndex(df['Date']).month_name() \n",
        "\n",
        "#Month of the year index\n",
        "df['Month_Index'] = pd.DatetimeIndex(df['Date']).month \n",
        "\n",
        "#Day of the month\n",
        "df['Day'] = pd.DatetimeIndex(df['Date']).day \n",
        "\n",
        "#Day of the week\n",
        "df['Weekday'] = df['Date'].dt.day_name() \n",
        "\n",
        "#Week of the year\n",
        "df['Week'] = df['Date'].dt.isocalendar().week \n",
        "\n",
        "#Day of the year\n",
        "df['Year_Day'] = df['Date'].dt.dayofyear\n",
        "\n",
        "#Calculating Hours\n",
        "def hour(x):\n",
        "  return int(math.floor(x / 100.0))\n",
        "df['Hour'] = df['Time'].apply(hour)\n",
        "\n",
        "#Calculating Minutes\n",
        "def minute(x):\n",
        "  return int(x - (math.floor(x / 100.0) *100))\n",
        "df['Minute'] = df['Time'].apply(minute)\n",
        "\n",
        "#Weekends\n",
        "df['Weekend'] = df['Weekday']\n",
        "df['Weekend'] = df['Weekend'].replace(['Monday', 'Tuesday', 'Wednesday', 'Thursday', 'Friday'], 'Weekday')\n",
        "df['Weekend'] = df['Weekend'].replace(['Saturday', 'Sunday'], 'Weekend')\n",
        "\n",
        "#Holidays\n",
        "us_holidays = holidays.US()\n",
        "def get_holiday(x):\n",
        "    return x in us_holidays\n",
        "df['Holiday'] = df['Date'].apply(get_holiday)\n",
        "df['Holiday'] = df['Holiday'].replace(False, 'No Holiday')\n",
        "df['Holiday'] = df['Holiday'].replace(True, 'Holiday')\n",
        "\n",
        "#Dropping Fine Amount Outliers\n",
        "df = df.loc[df['Fine_Amount'] <= 5000]\n",
        "\n",
        "#Column Order\n",
        "df = df[['Date', 'Year', 'Day', 'Month', 'Month_Index', 'Weekday', 'Weekend', 'Holiday', 'Week', 'Year_Day', 'Time', 'Hour', 'Minute', 'Fine_Amount']]"
      ],
      "metadata": {
        "id": "XK4RHaw8nbL9"
      },
      "execution_count": 19,
      "outputs": []
    },
    {
      "cell_type": "code",
      "source": [
        "#Saving Cleaned File\n",
        "df.to_csv(f'{directory}/Parking_Citations_Cleaned.csv', index=False)"
      ],
      "metadata": {
        "id": "_VejantUrdqD"
      },
      "execution_count": 20,
      "outputs": []
    }
  ]
}